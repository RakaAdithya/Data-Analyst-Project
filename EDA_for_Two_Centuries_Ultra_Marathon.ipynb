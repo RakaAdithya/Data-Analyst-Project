{
  "nbformat": 4,
  "nbformat_minor": 0,
  "metadata": {
    "colab": {
      "provenance": [],
      "authorship_tag": "ABX9TyOM1g441zU0QnTsjKCynO6E",
      "include_colab_link": true
    },
    "kernelspec": {
      "name": "python3",
      "display_name": "Python 3"
    },
    "language_info": {
      "name": "python"
    }
  },
  "cells": [
    {
      "cell_type": "markdown",
      "metadata": {
        "id": "view-in-github",
        "colab_type": "text"
      },
      "source": [
        "<a href=\"https://colab.research.google.com/github/yourcodeishere/Data-Analyst-Project/blob/main/EDA_for_Two_Centuries_Ultra_Marathon.ipynb\" target=\"_parent\"><img src=\"https://colab.research.google.com/assets/colab-badge.svg\" alt=\"Open In Colab\"/></a>"
      ]
    },
    {
      "cell_type": "code",
      "execution_count": 3,
      "metadata": {
        "colab": {
          "base_uri": "https://localhost:8080/"
        },
        "id": "pmX4X5Xw5ZE2",
        "outputId": "5d28da61-744d-4694-8bbd-d0a7082375d2"
      },
      "outputs": [
        {
          "output_type": "stream",
          "name": "stderr",
          "text": [
            "<ipython-input-3-8acccec785dd>:5: DtypeWarning: Columns (11) have mixed types. Specify dtype option on import or set low_memory=False.\n",
            "  df=pd.read_csv(\"TWO_CENTURIES_OF_UM_RACES.csv\")\n"
          ]
        }
      ],
      "source": [
        "import os\n",
        "import pandas as pd\n",
        "import seaborn as sns\n",
        "\n",
        "df=pd.read_csv(\"TWO_CENTURIES_OF_UM_RACES.csv\")"
      ]
    },
    {
      "cell_type": "code",
      "source": [
        "df2 = df.copy()\n",
        "\n",
        "df2=df2[(df['Event distance/length'].isin(['50km','50mi'])) &\n",
        "  (df['Year of event'] == 2020) &\n",
        "    (df['Event name'].str.split('(').str.get(1).str.split(')').str.get(0)=='USA')]\n"
      ],
      "metadata": {
        "id": "H0eV2QbNHA_u"
      },
      "execution_count": 7,
      "outputs": []
    },
    {
      "cell_type": "code",
      "source": [
        "#let's do some data cleaning\n",
        "#we want the country code on the Event name to be in seperated column called 'Event Country' & remove 'h' on athlete perfomance\n",
        "\n",
        "df2['Event country']=df['Event name'].str.extract(r'\\((.*?)\\)')\n",
        "df2['Athlete performance']=df['Athlete performance'].str[:-2]\n",
        "\n"
      ],
      "metadata": {
        "id": "BcrR79ycF4cH"
      },
      "execution_count": 9,
      "outputs": []
    },
    {
      "cell_type": "code",
      "source": [
        "df2.shape"
      ],
      "metadata": {
        "colab": {
          "base_uri": "https://localhost:8080/"
        },
        "id": "jP8kKO7cJQTX",
        "outputId": "06fc327f-c96d-47da-a856-850020f042ef"
      },
      "execution_count": 10,
      "outputs": [
        {
          "output_type": "execute_result",
          "data": {
            "text/plain": [
              "(26090, 14)"
            ]
          },
          "metadata": {},
          "execution_count": 10
        }
      ]
    },
    {
      "cell_type": "code",
      "source": [
        "#next step let's created another columns for athelete age when they participated on the event\n",
        "\n",
        "df2['Athlete_age']=2020-df2['Athlete year of birth']"
      ],
      "metadata": {
        "id": "kffO04SvYtxG"
      },
      "execution_count": 11,
      "outputs": []
    },
    {
      "cell_type": "code",
      "source": [
        "#lets drop some column to tidy up table:\n",
        "df2 = df2.drop(['Athlete club', 'Athlete country', 'Athlete year of birth', 'Athlete age category'], axis = 1)\n"
      ],
      "metadata": {
        "id": "KQC9d31WaPc2"
      },
      "execution_count": 12,
      "outputs": []
    },
    {
      "cell_type": "code",
      "source": [
        "#lets eliminate null data\n",
        "df2=df2.dropna()"
      ],
      "metadata": {
        "id": "DBtsSr7da60b"
      },
      "execution_count": 13,
      "outputs": []
    },
    {
      "cell_type": "code",
      "source": [
        "#eliminate duplicates\n",
        "df2=df2.drop_duplicates()"
      ],
      "metadata": {
        "id": "6GKLCA_n5YKA"
      },
      "execution_count": 14,
      "outputs": []
    },
    {
      "cell_type": "code",
      "source": [
        "df2.reset_index(drop = True)"
      ],
      "metadata": {
        "colab": {
          "base_uri": "https://localhost:8080/",
          "height": 1000
        },
        "id": "GqDyfJBeJ7uR",
        "outputId": "20d32aff-dab1-4b32-8a11-1bd9bf373699"
      },
      "execution_count": 15,
      "outputs": [
        {
          "output_type": "execute_result",
          "data": {
            "text/plain": [
              "       Year of event Event dates  \\\n",
              "0               2020  02.02.2020   \n",
              "1               2020  02.02.2020   \n",
              "2               2020  02.02.2020   \n",
              "3               2020  02.02.2020   \n",
              "4               2020  02.02.2020   \n",
              "...              ...         ...   \n",
              "25852           2020  03.10.2020   \n",
              "25853           2020  03.10.2020   \n",
              "25854           2020  03.10.2020   \n",
              "25855           2020  03.10.2020   \n",
              "25856           2020  03.10.2020   \n",
              "\n",
              "                                          Event name Event distance/length  \\\n",
              "0      West Seattle Beach Run - Winter Edition (USA)                  50km   \n",
              "1      West Seattle Beach Run - Winter Edition (USA)                  50km   \n",
              "2      West Seattle Beach Run - Winter Edition (USA)                  50km   \n",
              "3      West Seattle Beach Run - Winter Edition (USA)                  50km   \n",
              "4      West Seattle Beach Run - Winter Edition (USA)                  50km   \n",
              "...                                              ...                   ...   \n",
              "25852   Yankee Springs Fall Trail Run Festival (USA)                  50km   \n",
              "25853   Yankee Springs Fall Trail Run Festival (USA)                  50km   \n",
              "25854   Yankee Springs Fall Trail Run Festival (USA)                  50km   \n",
              "25855   Yankee Springs Fall Trail Run Festival (USA)                  50km   \n",
              "25856   Yankee Springs Fall Trail Run Festival (USA)                  50km   \n",
              "\n",
              "       Event number of finishers Athlete performance Athlete gender  \\\n",
              "0                             20             3:17:55              M   \n",
              "1                             20             4:02:32              M   \n",
              "2                             20             4:07:57              M   \n",
              "3                             20             4:22:02              M   \n",
              "4                             20             4:27:34              M   \n",
              "...                          ...                 ...            ...   \n",
              "25852                         30             7:07:48              F   \n",
              "25853                         30             7:27:22              F   \n",
              "25854                         30             7:27:24              F   \n",
              "25855                         30             7:38:30              F   \n",
              "25856                         30             7:59:53              M   \n",
              "\n",
              "      Athlete average speed  Athlete ID Event country  Athlete_age  \n",
              "0                    15.158       71287           USA         29.0  \n",
              "1                    12.369      629508           USA         39.0  \n",
              "2                    12.099       64838           USA         21.0  \n",
              "3                    11.449      704450           USA         37.0  \n",
              "4                    11.212      810281           USA         43.0  \n",
              "...                     ...         ...           ...          ...  \n",
              "25852                 7.013      816361           USA         62.0  \n",
              "25853                 6.706      326469           USA         43.0  \n",
              "25854                 6.705      372174           USA         58.0  \n",
              "25855                 6.543      860349           USA         39.0  \n",
              "25856                 6.252      770097           USA         40.0  \n",
              "\n",
              "[25857 rows x 11 columns]"
            ],
            "text/html": [
              "\n",
              "  <div id=\"df-ce65955b-9d1a-4d82-a699-c691e08fb85a\" class=\"colab-df-container\">\n",
              "    <div>\n",
              "<style scoped>\n",
              "    .dataframe tbody tr th:only-of-type {\n",
              "        vertical-align: middle;\n",
              "    }\n",
              "\n",
              "    .dataframe tbody tr th {\n",
              "        vertical-align: top;\n",
              "    }\n",
              "\n",
              "    .dataframe thead th {\n",
              "        text-align: right;\n",
              "    }\n",
              "</style>\n",
              "<table border=\"1\" class=\"dataframe\">\n",
              "  <thead>\n",
              "    <tr style=\"text-align: right;\">\n",
              "      <th></th>\n",
              "      <th>Year of event</th>\n",
              "      <th>Event dates</th>\n",
              "      <th>Event name</th>\n",
              "      <th>Event distance/length</th>\n",
              "      <th>Event number of finishers</th>\n",
              "      <th>Athlete performance</th>\n",
              "      <th>Athlete gender</th>\n",
              "      <th>Athlete average speed</th>\n",
              "      <th>Athlete ID</th>\n",
              "      <th>Event country</th>\n",
              "      <th>Athlete_age</th>\n",
              "    </tr>\n",
              "  </thead>\n",
              "  <tbody>\n",
              "    <tr>\n",
              "      <th>0</th>\n",
              "      <td>2020</td>\n",
              "      <td>02.02.2020</td>\n",
              "      <td>West Seattle Beach Run - Winter Edition (USA)</td>\n",
              "      <td>50km</td>\n",
              "      <td>20</td>\n",
              "      <td>3:17:55</td>\n",
              "      <td>M</td>\n",
              "      <td>15.158</td>\n",
              "      <td>71287</td>\n",
              "      <td>USA</td>\n",
              "      <td>29.0</td>\n",
              "    </tr>\n",
              "    <tr>\n",
              "      <th>1</th>\n",
              "      <td>2020</td>\n",
              "      <td>02.02.2020</td>\n",
              "      <td>West Seattle Beach Run - Winter Edition (USA)</td>\n",
              "      <td>50km</td>\n",
              "      <td>20</td>\n",
              "      <td>4:02:32</td>\n",
              "      <td>M</td>\n",
              "      <td>12.369</td>\n",
              "      <td>629508</td>\n",
              "      <td>USA</td>\n",
              "      <td>39.0</td>\n",
              "    </tr>\n",
              "    <tr>\n",
              "      <th>2</th>\n",
              "      <td>2020</td>\n",
              "      <td>02.02.2020</td>\n",
              "      <td>West Seattle Beach Run - Winter Edition (USA)</td>\n",
              "      <td>50km</td>\n",
              "      <td>20</td>\n",
              "      <td>4:07:57</td>\n",
              "      <td>M</td>\n",
              "      <td>12.099</td>\n",
              "      <td>64838</td>\n",
              "      <td>USA</td>\n",
              "      <td>21.0</td>\n",
              "    </tr>\n",
              "    <tr>\n",
              "      <th>3</th>\n",
              "      <td>2020</td>\n",
              "      <td>02.02.2020</td>\n",
              "      <td>West Seattle Beach Run - Winter Edition (USA)</td>\n",
              "      <td>50km</td>\n",
              "      <td>20</td>\n",
              "      <td>4:22:02</td>\n",
              "      <td>M</td>\n",
              "      <td>11.449</td>\n",
              "      <td>704450</td>\n",
              "      <td>USA</td>\n",
              "      <td>37.0</td>\n",
              "    </tr>\n",
              "    <tr>\n",
              "      <th>4</th>\n",
              "      <td>2020</td>\n",
              "      <td>02.02.2020</td>\n",
              "      <td>West Seattle Beach Run - Winter Edition (USA)</td>\n",
              "      <td>50km</td>\n",
              "      <td>20</td>\n",
              "      <td>4:27:34</td>\n",
              "      <td>M</td>\n",
              "      <td>11.212</td>\n",
              "      <td>810281</td>\n",
              "      <td>USA</td>\n",
              "      <td>43.0</td>\n",
              "    </tr>\n",
              "    <tr>\n",
              "      <th>...</th>\n",
              "      <td>...</td>\n",
              "      <td>...</td>\n",
              "      <td>...</td>\n",
              "      <td>...</td>\n",
              "      <td>...</td>\n",
              "      <td>...</td>\n",
              "      <td>...</td>\n",
              "      <td>...</td>\n",
              "      <td>...</td>\n",
              "      <td>...</td>\n",
              "      <td>...</td>\n",
              "    </tr>\n",
              "    <tr>\n",
              "      <th>25852</th>\n",
              "      <td>2020</td>\n",
              "      <td>03.10.2020</td>\n",
              "      <td>Yankee Springs Fall Trail Run Festival (USA)</td>\n",
              "      <td>50km</td>\n",
              "      <td>30</td>\n",
              "      <td>7:07:48</td>\n",
              "      <td>F</td>\n",
              "      <td>7.013</td>\n",
              "      <td>816361</td>\n",
              "      <td>USA</td>\n",
              "      <td>62.0</td>\n",
              "    </tr>\n",
              "    <tr>\n",
              "      <th>25853</th>\n",
              "      <td>2020</td>\n",
              "      <td>03.10.2020</td>\n",
              "      <td>Yankee Springs Fall Trail Run Festival (USA)</td>\n",
              "      <td>50km</td>\n",
              "      <td>30</td>\n",
              "      <td>7:27:22</td>\n",
              "      <td>F</td>\n",
              "      <td>6.706</td>\n",
              "      <td>326469</td>\n",
              "      <td>USA</td>\n",
              "      <td>43.0</td>\n",
              "    </tr>\n",
              "    <tr>\n",
              "      <th>25854</th>\n",
              "      <td>2020</td>\n",
              "      <td>03.10.2020</td>\n",
              "      <td>Yankee Springs Fall Trail Run Festival (USA)</td>\n",
              "      <td>50km</td>\n",
              "      <td>30</td>\n",
              "      <td>7:27:24</td>\n",
              "      <td>F</td>\n",
              "      <td>6.705</td>\n",
              "      <td>372174</td>\n",
              "      <td>USA</td>\n",
              "      <td>58.0</td>\n",
              "    </tr>\n",
              "    <tr>\n",
              "      <th>25855</th>\n",
              "      <td>2020</td>\n",
              "      <td>03.10.2020</td>\n",
              "      <td>Yankee Springs Fall Trail Run Festival (USA)</td>\n",
              "      <td>50km</td>\n",
              "      <td>30</td>\n",
              "      <td>7:38:30</td>\n",
              "      <td>F</td>\n",
              "      <td>6.543</td>\n",
              "      <td>860349</td>\n",
              "      <td>USA</td>\n",
              "      <td>39.0</td>\n",
              "    </tr>\n",
              "    <tr>\n",
              "      <th>25856</th>\n",
              "      <td>2020</td>\n",
              "      <td>03.10.2020</td>\n",
              "      <td>Yankee Springs Fall Trail Run Festival (USA)</td>\n",
              "      <td>50km</td>\n",
              "      <td>30</td>\n",
              "      <td>7:59:53</td>\n",
              "      <td>M</td>\n",
              "      <td>6.252</td>\n",
              "      <td>770097</td>\n",
              "      <td>USA</td>\n",
              "      <td>40.0</td>\n",
              "    </tr>\n",
              "  </tbody>\n",
              "</table>\n",
              "<p>25857 rows × 11 columns</p>\n",
              "</div>\n",
              "    <div class=\"colab-df-buttons\">\n",
              "\n",
              "  <div class=\"colab-df-container\">\n",
              "    <button class=\"colab-df-convert\" onclick=\"convertToInteractive('df-ce65955b-9d1a-4d82-a699-c691e08fb85a')\"\n",
              "            title=\"Convert this dataframe to an interactive table.\"\n",
              "            style=\"display:none;\">\n",
              "\n",
              "  <svg xmlns=\"http://www.w3.org/2000/svg\" height=\"24px\" viewBox=\"0 -960 960 960\">\n",
              "    <path d=\"M120-120v-720h720v720H120Zm60-500h600v-160H180v160Zm220 220h160v-160H400v160Zm0 220h160v-160H400v160ZM180-400h160v-160H180v160Zm440 0h160v-160H620v160ZM180-180h160v-160H180v160Zm440 0h160v-160H620v160Z\"/>\n",
              "  </svg>\n",
              "    </button>\n",
              "\n",
              "  <style>\n",
              "    .colab-df-container {\n",
              "      display:flex;\n",
              "      gap: 12px;\n",
              "    }\n",
              "\n",
              "    .colab-df-convert {\n",
              "      background-color: #E8F0FE;\n",
              "      border: none;\n",
              "      border-radius: 50%;\n",
              "      cursor: pointer;\n",
              "      display: none;\n",
              "      fill: #1967D2;\n",
              "      height: 32px;\n",
              "      padding: 0 0 0 0;\n",
              "      width: 32px;\n",
              "    }\n",
              "\n",
              "    .colab-df-convert:hover {\n",
              "      background-color: #E2EBFA;\n",
              "      box-shadow: 0px 1px 2px rgba(60, 64, 67, 0.3), 0px 1px 3px 1px rgba(60, 64, 67, 0.15);\n",
              "      fill: #174EA6;\n",
              "    }\n",
              "\n",
              "    .colab-df-buttons div {\n",
              "      margin-bottom: 4px;\n",
              "    }\n",
              "\n",
              "    [theme=dark] .colab-df-convert {\n",
              "      background-color: #3B4455;\n",
              "      fill: #D2E3FC;\n",
              "    }\n",
              "\n",
              "    [theme=dark] .colab-df-convert:hover {\n",
              "      background-color: #434B5C;\n",
              "      box-shadow: 0px 1px 3px 1px rgba(0, 0, 0, 0.15);\n",
              "      filter: drop-shadow(0px 1px 2px rgba(0, 0, 0, 0.3));\n",
              "      fill: #FFFFFF;\n",
              "    }\n",
              "  </style>\n",
              "\n",
              "    <script>\n",
              "      const buttonEl =\n",
              "        document.querySelector('#df-ce65955b-9d1a-4d82-a699-c691e08fb85a button.colab-df-convert');\n",
              "      buttonEl.style.display =\n",
              "        google.colab.kernel.accessAllowed ? 'block' : 'none';\n",
              "\n",
              "      async function convertToInteractive(key) {\n",
              "        const element = document.querySelector('#df-ce65955b-9d1a-4d82-a699-c691e08fb85a');\n",
              "        const dataTable =\n",
              "          await google.colab.kernel.invokeFunction('convertToInteractive',\n",
              "                                                    [key], {});\n",
              "        if (!dataTable) return;\n",
              "\n",
              "        const docLinkHtml = 'Like what you see? Visit the ' +\n",
              "          '<a target=\"_blank\" href=https://colab.research.google.com/notebooks/data_table.ipynb>data table notebook</a>'\n",
              "          + ' to learn more about interactive tables.';\n",
              "        element.innerHTML = '';\n",
              "        dataTable['output_type'] = 'display_data';\n",
              "        await google.colab.output.renderOutput(dataTable, element);\n",
              "        const docLink = document.createElement('div');\n",
              "        docLink.innerHTML = docLinkHtml;\n",
              "        element.appendChild(docLink);\n",
              "      }\n",
              "    </script>\n",
              "  </div>\n",
              "\n",
              "\n",
              "<div id=\"df-09441ff9-5486-4aee-afa8-71a7c1f57506\">\n",
              "  <button class=\"colab-df-quickchart\" onclick=\"quickchart('df-09441ff9-5486-4aee-afa8-71a7c1f57506')\"\n",
              "            title=\"Suggest charts\"\n",
              "            style=\"display:none;\">\n",
              "\n",
              "<svg xmlns=\"http://www.w3.org/2000/svg\" height=\"24px\"viewBox=\"0 0 24 24\"\n",
              "     width=\"24px\">\n",
              "    <g>\n",
              "        <path d=\"M19 3H5c-1.1 0-2 .9-2 2v14c0 1.1.9 2 2 2h14c1.1 0 2-.9 2-2V5c0-1.1-.9-2-2-2zM9 17H7v-7h2v7zm4 0h-2V7h2v10zm4 0h-2v-4h2v4z\"/>\n",
              "    </g>\n",
              "</svg>\n",
              "  </button>\n",
              "\n",
              "<style>\n",
              "  .colab-df-quickchart {\n",
              "      --bg-color: #E8F0FE;\n",
              "      --fill-color: #1967D2;\n",
              "      --hover-bg-color: #E2EBFA;\n",
              "      --hover-fill-color: #174EA6;\n",
              "      --disabled-fill-color: #AAA;\n",
              "      --disabled-bg-color: #DDD;\n",
              "  }\n",
              "\n",
              "  [theme=dark] .colab-df-quickchart {\n",
              "      --bg-color: #3B4455;\n",
              "      --fill-color: #D2E3FC;\n",
              "      --hover-bg-color: #434B5C;\n",
              "      --hover-fill-color: #FFFFFF;\n",
              "      --disabled-bg-color: #3B4455;\n",
              "      --disabled-fill-color: #666;\n",
              "  }\n",
              "\n",
              "  .colab-df-quickchart {\n",
              "    background-color: var(--bg-color);\n",
              "    border: none;\n",
              "    border-radius: 50%;\n",
              "    cursor: pointer;\n",
              "    display: none;\n",
              "    fill: var(--fill-color);\n",
              "    height: 32px;\n",
              "    padding: 0;\n",
              "    width: 32px;\n",
              "  }\n",
              "\n",
              "  .colab-df-quickchart:hover {\n",
              "    background-color: var(--hover-bg-color);\n",
              "    box-shadow: 0 1px 2px rgba(60, 64, 67, 0.3), 0 1px 3px 1px rgba(60, 64, 67, 0.15);\n",
              "    fill: var(--button-hover-fill-color);\n",
              "  }\n",
              "\n",
              "  .colab-df-quickchart-complete:disabled,\n",
              "  .colab-df-quickchart-complete:disabled:hover {\n",
              "    background-color: var(--disabled-bg-color);\n",
              "    fill: var(--disabled-fill-color);\n",
              "    box-shadow: none;\n",
              "  }\n",
              "\n",
              "  .colab-df-spinner {\n",
              "    border: 2px solid var(--fill-color);\n",
              "    border-color: transparent;\n",
              "    border-bottom-color: var(--fill-color);\n",
              "    animation:\n",
              "      spin 1s steps(1) infinite;\n",
              "  }\n",
              "\n",
              "  @keyframes spin {\n",
              "    0% {\n",
              "      border-color: transparent;\n",
              "      border-bottom-color: var(--fill-color);\n",
              "      border-left-color: var(--fill-color);\n",
              "    }\n",
              "    20% {\n",
              "      border-color: transparent;\n",
              "      border-left-color: var(--fill-color);\n",
              "      border-top-color: var(--fill-color);\n",
              "    }\n",
              "    30% {\n",
              "      border-color: transparent;\n",
              "      border-left-color: var(--fill-color);\n",
              "      border-top-color: var(--fill-color);\n",
              "      border-right-color: var(--fill-color);\n",
              "    }\n",
              "    40% {\n",
              "      border-color: transparent;\n",
              "      border-right-color: var(--fill-color);\n",
              "      border-top-color: var(--fill-color);\n",
              "    }\n",
              "    60% {\n",
              "      border-color: transparent;\n",
              "      border-right-color: var(--fill-color);\n",
              "    }\n",
              "    80% {\n",
              "      border-color: transparent;\n",
              "      border-right-color: var(--fill-color);\n",
              "      border-bottom-color: var(--fill-color);\n",
              "    }\n",
              "    90% {\n",
              "      border-color: transparent;\n",
              "      border-bottom-color: var(--fill-color);\n",
              "    }\n",
              "  }\n",
              "</style>\n",
              "\n",
              "  <script>\n",
              "    async function quickchart(key) {\n",
              "      const quickchartButtonEl =\n",
              "        document.querySelector('#' + key + ' button');\n",
              "      quickchartButtonEl.disabled = true;  // To prevent multiple clicks.\n",
              "      quickchartButtonEl.classList.add('colab-df-spinner');\n",
              "      try {\n",
              "        const charts = await google.colab.kernel.invokeFunction(\n",
              "            'suggestCharts', [key], {});\n",
              "      } catch (error) {\n",
              "        console.error('Error during call to suggestCharts:', error);\n",
              "      }\n",
              "      quickchartButtonEl.classList.remove('colab-df-spinner');\n",
              "      quickchartButtonEl.classList.add('colab-df-quickchart-complete');\n",
              "    }\n",
              "    (() => {\n",
              "      let quickchartButtonEl =\n",
              "        document.querySelector('#df-09441ff9-5486-4aee-afa8-71a7c1f57506 button');\n",
              "      quickchartButtonEl.style.display =\n",
              "        google.colab.kernel.accessAllowed ? 'block' : 'none';\n",
              "    })();\n",
              "  </script>\n",
              "</div>\n",
              "    </div>\n",
              "  </div>\n"
            ],
            "application/vnd.google.colaboratory.intrinsic+json": {
              "type": "dataframe",
              "summary": "{\n  \"name\": \"df2\",\n  \"rows\": 25857,\n  \"fields\": [\n    {\n      \"column\": \"Year of event\",\n      \"properties\": {\n        \"dtype\": \"number\",\n        \"std\": 0,\n        \"min\": 2020,\n        \"max\": 2020,\n        \"num_unique_values\": 1,\n        \"samples\": [\n          2020\n        ],\n        \"semantic_type\": \"\",\n        \"description\": \"\"\n      }\n    },\n    {\n      \"column\": \"Event dates\",\n      \"properties\": {\n        \"dtype\": \"category\",\n        \"num_unique_values\": 107,\n        \"samples\": [\n          \"12.12.2020\"\n        ],\n        \"semantic_type\": \"\",\n        \"description\": \"\"\n      }\n    },\n    {\n      \"column\": \"Event name\",\n      \"properties\": {\n        \"dtype\": \"category\",\n        \"num_unique_values\": 489,\n        \"samples\": [\n          \"Wild Duluth 50 km Races (USA)\"\n        ],\n        \"semantic_type\": \"\",\n        \"description\": \"\"\n      }\n    },\n    {\n      \"column\": \"Event distance/length\",\n      \"properties\": {\n        \"dtype\": \"category\",\n        \"num_unique_values\": 2,\n        \"samples\": [\n          \"50mi\"\n        ],\n        \"semantic_type\": \"\",\n        \"description\": \"\"\n      }\n    },\n    {\n      \"column\": \"Event number of finishers\",\n      \"properties\": {\n        \"dtype\": \"number\",\n        \"std\": 131,\n        \"min\": 2,\n        \"max\": 636,\n        \"num_unique_values\": 136,\n        \"samples\": [\n          9\n        ],\n        \"semantic_type\": \"\",\n        \"description\": \"\"\n      }\n    },\n    {\n      \"column\": \"Athlete performance\",\n      \"properties\": {\n        \"dtype\": \"string\",\n        \"num_unique_values\": 16556,\n        \"samples\": [\n          \"10:41:59\"\n        ],\n        \"semantic_type\": \"\",\n        \"description\": \"\"\n      }\n    },\n    {\n      \"column\": \"Athlete gender\",\n      \"properties\": {\n        \"dtype\": \"category\",\n        \"num_unique_values\": 2,\n        \"samples\": [\n          \"F\"\n        ],\n        \"semantic_type\": \"\",\n        \"description\": \"\"\n      }\n    },\n    {\n      \"column\": \"Athlete average speed\",\n      \"properties\": {\n        \"dtype\": \"category\",\n        \"num_unique_values\": 6850,\n        \"samples\": [\n          \"4.958\"\n        ],\n        \"semantic_type\": \"\",\n        \"description\": \"\"\n      }\n    },\n    {\n      \"column\": \"Athlete ID\",\n      \"properties\": {\n        \"dtype\": \"number\",\n        \"std\": 328665,\n        \"min\": 55,\n        \"max\": 860349,\n        \"num_unique_values\": 21058,\n        \"samples\": [\n          11989\n        ],\n        \"semantic_type\": \"\",\n        \"description\": \"\"\n      }\n    },\n    {\n      \"column\": \"Event country\",\n      \"properties\": {\n        \"dtype\": \"category\",\n        \"num_unique_values\": 1,\n        \"samples\": [\n          \"USA\"\n        ],\n        \"semantic_type\": \"\",\n        \"description\": \"\"\n      }\n    },\n    {\n      \"column\": \"Athlete_age\",\n      \"properties\": {\n        \"dtype\": \"number\",\n        \"std\": 10.724136382698527,\n        \"min\": 9.0,\n        \"max\": 85.0,\n        \"num_unique_values\": 73,\n        \"samples\": [\n          43.0\n        ],\n        \"semantic_type\": \"\",\n        \"description\": \"\"\n      }\n    }\n  ]\n}"
            }
          },
          "metadata": {},
          "execution_count": 15
        }
      ]
    },
    {
      "cell_type": "code",
      "source": [
        "#question I want to answer : how big is the difference betwen 50km and 50mi participant\n",
        "\n",
        "sns.histplot(df2['Event distance/length'])"
      ],
      "metadata": {
        "colab": {
          "base_uri": "https://localhost:8080/",
          "height": 466
        },
        "id": "SvSl-OvlKAE8",
        "outputId": "d047aa6b-27ea-45ab-ddff-e72d7245162b"
      },
      "execution_count": 16,
      "outputs": [
        {
          "output_type": "execute_result",
          "data": {
            "text/plain": [
              "<Axes: xlabel='Event distance/length', ylabel='Count'>"
            ]
          },
          "metadata": {},
          "execution_count": 16
        },
        {
          "output_type": "display_data",
          "data": {
            "text/plain": [
              "<Figure size 640x480 with 1 Axes>"
            ],
            "image/png": "[encoded data removed]"
          },
          "metadata": {}
        }
      ]
    },
    {
      "cell_type": "code",
      "source": [
        "#might as well show how much male and female athele that patricipate on that graph\n",
        "\n",
        "import matplotlib.pyplot as plt\n",
        "sns.histplot(df2,x= 'Event distance/length', hue ='Athlete gender')\n",
        "\n",
        "plt.xlabel('Event Distance/Length')\n",
        "plt.ylabel('Count')"
      ],
      "metadata": {
        "colab": {
          "base_uri": "https://localhost:8080/",
          "height": 645
        },
        "id": "IabgFV0qK-7R",
        "outputId": "0ba0e689-cc45-4a44-af82-e044420f58db"
      },
      "execution_count": 21,
      "outputs": [
        {
          "output_type": "error",
          "ename": "NameError",
          "evalue": "name 'ax' is not defined",
          "traceback": [
            "\u001b[0;31m---------------------------------------------------------------------------\u001b[0m",
            "\u001b[0;31mNameError\u001b[0m                                 Traceback (most recent call last)",
            "\u001b[0;32m<ipython-input-21-3dbc4d5a9c3e>\u001b[0m in \u001b[0;36m<cell line: 10>\u001b[0;34m()\u001b[0m\n\u001b[1;32m      8\u001b[0m \u001b[0;34m\u001b[0m\u001b[0m\n\u001b[1;32m      9\u001b[0m \u001b[0;31m# Add the count labels\u001b[0m\u001b[0;34m\u001b[0m\u001b[0;34m\u001b[0m\u001b[0m\n\u001b[0;32m---> 10\u001b[0;31m \u001b[0;32mfor\u001b[0m \u001b[0mcontainer\u001b[0m \u001b[0;32min\u001b[0m \u001b[0max\u001b[0m\u001b[0;34m.\u001b[0m\u001b[0mcontainers\u001b[0m\u001b[0;34m:\u001b[0m\u001b[0;34m\u001b[0m\u001b[0;34m\u001b[0m\u001b[0m\n\u001b[0m\u001b[1;32m     11\u001b[0m     \u001b[0max\u001b[0m\u001b[0;34m.\u001b[0m\u001b[0mbar_label\u001b[0m\u001b[0;34m(\u001b[0m\u001b[0mcontainer\u001b[0m\u001b[0;34m)\u001b[0m\u001b[0;34m\u001b[0m\u001b[0;34m\u001b[0m\u001b[0m\n\u001b[1;32m     12\u001b[0m \u001b[0mplt\u001b[0m\u001b[0;34m.\u001b[0m\u001b[0mshow\u001b[0m\u001b[0;34m(\u001b[0m\u001b[0;34m)\u001b[0m\u001b[0;34m\u001b[0m\u001b[0;34m\u001b[0m\u001b[0m\n",
            "\u001b[0;31mNameError\u001b[0m: name 'ax' is not defined"
          ]
        },
        {
          "output_type": "display_data",
          "data": {
            "text/plain": [
              "<Figure size 640x480 with 1 Axes>"
            ],
            "image/png": "[encoded data removed]"
          },
          "metadata": {}
        }
      ]
    }
  ]
}